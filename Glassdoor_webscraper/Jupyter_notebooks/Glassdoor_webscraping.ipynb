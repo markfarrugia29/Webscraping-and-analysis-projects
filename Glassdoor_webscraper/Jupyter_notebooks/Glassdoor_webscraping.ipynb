{
 "cells": [
  {
   "cell_type": "markdown",
   "id": "00d14043-661a-414c-8158-8c29961ef2d4",
   "metadata": {},
   "source": [
    "# Scraping salary data for veterinary clinical pathologists from Glassdoor\n",
    "My wife is a veterinary clinical pathologist and is very interested in determining the range of salaries for her profession. One way of doing that is webscraping to aquire a large enough dataset to identify trends, such as salary by city/state or by foci. Glassdoor is a good resource for this, as it is widely used and I can easily shift keywords to search for broader categories to compare. \n",
    "\n",
    "For this project, I will attempt to pool together some code to generate a dataframe to analyze. For data collection, I will use a webscraping approach through Glassdoor using code prepared by Omer Sakarya (https://github.com/arapfaik/scraping-glassdoor-selenium). I only slightly modified the data and plan on forking it off from github."
   ]
  },
  {
   "cell_type": "code",
   "execution_count": 2,
   "id": "99bf866a-9809-4542-9148-1aaea8ab8278",
   "metadata": {},
   "outputs": [],
   "source": [
    "#import libraries and scripts\n",
    "import sys\n",
    "sys.path.append(r\"C:\\Users\\Tineash\\Projects\\Glassdoor_webscraper\\Python_scripts\")\n",
    "import pandas as pd\n",
    "import glassdoor_scraper_mod_v2 as gsm2\n",
    "\n",
    "import numpy as np"
   ]
  },
  {
   "cell_type": "code",
   "execution_count": 5,
   "id": "6e32be8d-e3bd-4588-82df-f3eaff0c0bf3",
   "metadata": {},
   "outputs": [
    {
     "name": "stdout",
     "output_type": "stream",
     "text": [
      "There are  26549 Data Analyst jobs Jobs  for the input keyword(s).\n",
      "Progress: 0/10\n",
      "Attempting to gather information\n",
      "Attempting to gather information\n",
      "Looking for Information Container\n",
      "Progress: 1/10\n",
      "StaleElementReferenceException while trying to click...seeking element again.\n",
      "Attempting to gather information\n",
      "Looking for Information Container\n",
      "Progress: 2/10\n",
      "StaleElementReferenceException while trying to click...seeking element again.\n",
      "Attempting to gather information\n",
      "Looking for Information Container\n",
      "Progress: 3/10\n",
      "StaleElementReferenceException while trying to click...seeking element again.\n",
      "Attempting to gather information\n",
      "Looking for Information Container\n",
      "NO COMPANY INFO FOUND\n",
      "Progress: 4/10\n",
      "StaleElementReferenceException while trying to click...seeking element again.\n",
      "Attempting to gather information\n",
      "Looking for Information Container\n",
      "NO COMPANY INFO FOUND\n",
      "Progress: 5/10\n",
      "StaleElementReferenceException while trying to click...seeking element again.\n",
      "Attempting to gather information\n",
      "Looking for Information Container\n",
      "Progress: 6/10\n",
      "StaleElementReferenceException while trying to click...seeking element again.\n",
      "Attempting to gather information\n",
      "Looking for Information Container\n",
      "Progress: 7/10\n",
      "StaleElementReferenceException while trying to click...seeking element again.\n",
      "Attempting to gather information\n",
      "Looking for Information Container\n",
      "Progress: 8/10\n",
      "StaleElementReferenceException while trying to click...seeking element again.\n",
      "Attempting to gather information\n",
      "Looking for Information Container\n",
      "Progress: 9/10\n",
      "StaleElementReferenceException while trying to click...seeking element again.\n",
      "Attempting to gather information\n",
      "Looking for Information Container\n",
      "Progress: 10/10\n",
      "Stopping run\n"
     ]
    }
   ],
   "source": [
    "# running scraper on glassdoor\n",
    "\n",
    "\n",
    "\n",
    "path = 'C:/Program Files/Chrome_driver/chromedriver'\n",
    "data = gsm2.get_jobs(\"Data Analyst\", 10, False, path, 3)"
   ]
  },
  {
   "cell_type": "code",
   "execution_count": 6,
   "id": "80e261d8-74c8-4753-955c-e6bcb3ce00fe",
   "metadata": {},
   "outputs": [
    {
     "data": {
      "text/plain": [
       "Job Title            object\n",
       "Salary Minimum       object\n",
       "Salary Maximum       object\n",
       "Salary Average       object\n",
       "Rating               object\n",
       "Company Name         object\n",
       "Location             object\n",
       "Size                 object\n",
       "Founded              object\n",
       "Type of ownership    object\n",
       "Industry             object\n",
       "Sector               object\n",
       "Revenue              object\n",
       "dtype: object"
      ]
     },
     "execution_count": 6,
     "metadata": {},
     "output_type": "execute_result"
    }
   ],
   "source": [
    "#Let's you view the entire dataframe. \n",
    "#You can change \"None\" to an int of your choice to limit the number of rows shown\n",
    "pd.set_option('display.max_rows',20)\n",
    "data.dtypes"
   ]
  },
  {
   "cell_type": "code",
   "execution_count": null,
   "id": "5a004d4f-a070-46f6-864c-23cd675ba347",
   "metadata": {},
   "outputs": [],
   "source": [
    "#get some information on the dataframe\n",
    "data.info()"
   ]
  },
  {
   "cell_type": "code",
   "execution_count": 4,
   "id": "2cdcb586-983e-4581-930e-f1aa835afb36",
   "metadata": {},
   "outputs": [
    {
     "name": "stdout",
     "output_type": "stream",
     "text": [
      "<class 'pandas.core.frame.DataFrame'>\n",
      "RangeIndex: 700 entries, 0 to 699\n",
      "Data columns (total 13 columns):\n",
      " #   Column             Non-Null Count  Dtype \n",
      "---  ------             --------------  ----- \n",
      " 0   Job Title          700 non-null    object\n",
      " 1   Salary Minimum     630 non-null    object\n",
      " 2   Salary Maximum     630 non-null    object\n",
      " 3   Salary Average     630 non-null    object\n",
      " 4   Rating             657 non-null    object\n",
      " 5   Company Name       700 non-null    object\n",
      " 6   Location           700 non-null    object\n",
      " 7   Size               670 non-null    object\n",
      " 8   Founded            564 non-null    object\n",
      " 9   Type of ownership  670 non-null    object\n",
      " 10  Industry           638 non-null    object\n",
      " 11  Sector             638 non-null    object\n",
      " 12  Revenue            670 non-null    object\n",
      "dtypes: object(13)\n",
      "memory usage: 71.2+ KB\n"
     ]
    }
   ],
   "source": [
    "#Replace -1 values (string) with NAN\n",
    "data_nulled = data.replace(-1, np.nan)\n",
    "data_nulled.info()"
   ]
  },
  {
   "cell_type": "code",
   "execution_count": 9,
   "id": "79cc1c15-8359-4993-855e-7a3b14b134db",
   "metadata": {},
   "outputs": [],
   "source": [
    "#pickle the data to view at a later time\n",
    "#dataframe.to_pickle(\"path_to_file.pkl\")\n",
    "data_nulled.to_pickle(\"C:/Users/Tineash/Data_analyst_dataset.pkl\")\n",
    "\n",
    "#dataframe.to_csv(\"path_to_file.csv\")\n",
    "data_nulled.to_csv(\"C:/Users/Tineash/Data_analyst_dataset.csv\", index = False)"
   ]
  },
  {
   "cell_type": "code",
   "execution_count": 10,
   "id": "bf1b2956-1041-4f45-af66-66d39ed35149",
   "metadata": {},
   "outputs": [],
   "source": [
    "#set a variable to take the data data\n",
    "DA_data = pd.read_csv(\"./Data_analyst_dataset.csv\")"
   ]
  },
  {
   "cell_type": "code",
   "execution_count": 11,
   "id": "97efe8f3-ff08-4a2c-a1d4-11e1346bf780",
   "metadata": {},
   "outputs": [
    {
     "data": {
      "text/html": [
       "<div>\n",
       "<style scoped>\n",
       "    .dataframe tbody tr th:only-of-type {\n",
       "        vertical-align: middle;\n",
       "    }\n",
       "\n",
       "    .dataframe tbody tr th {\n",
       "        vertical-align: top;\n",
       "    }\n",
       "\n",
       "    .dataframe thead th {\n",
       "        text-align: right;\n",
       "    }\n",
       "</style>\n",
       "<table border=\"1\" class=\"dataframe\">\n",
       "  <thead>\n",
       "    <tr style=\"text-align: right;\">\n",
       "      <th></th>\n",
       "      <th>Job Title</th>\n",
       "      <th>Salary Minimum</th>\n",
       "      <th>Salary Maximum</th>\n",
       "      <th>Salary Average</th>\n",
       "      <th>Rating</th>\n",
       "      <th>Company Name</th>\n",
       "      <th>Location</th>\n",
       "      <th>Size</th>\n",
       "      <th>Founded</th>\n",
       "      <th>Type of ownership</th>\n",
       "      <th>Industry</th>\n",
       "      <th>Sector</th>\n",
       "      <th>Revenue</th>\n",
       "    </tr>\n",
       "  </thead>\n",
       "  <tbody>\n",
       "    <tr>\n",
       "      <th>0</th>\n",
       "      <td>IT-Data Analyst</td>\n",
       "      <td>$45K</td>\n",
       "      <td>$82K</td>\n",
       "      <td>$61,021 /yr (est.)</td>\n",
       "      <td>3.9</td>\n",
       "      <td>Federated Mutual Insurance Company\\n3.9</td>\n",
       "      <td>Owatonna, MN</td>\n",
       "      <td>1001 to 5000 Employees</td>\n",
       "      <td>1904.0</td>\n",
       "      <td>Company - Private</td>\n",
       "      <td>Insurance Carriers</td>\n",
       "      <td>Insurance</td>\n",
       "      <td>$1 to $2 billion (USD)</td>\n",
       "    </tr>\n",
       "    <tr>\n",
       "      <th>1</th>\n",
       "      <td>Research and Data Analyst</td>\n",
       "      <td>$51K</td>\n",
       "      <td>$91K</td>\n",
       "      <td>$67,848 /yr (est.)</td>\n",
       "      <td>4.1</td>\n",
       "      <td>Association of American Medical Colleges\\n4.1</td>\n",
       "      <td>Washington, DC</td>\n",
       "      <td>501 to 1000 Employees</td>\n",
       "      <td>1876.0</td>\n",
       "      <td>Nonprofit Organization</td>\n",
       "      <td>Health Care Services &amp; Hospitals</td>\n",
       "      <td>Healthcare</td>\n",
       "      <td>$100 to $500 million (USD)</td>\n",
       "    </tr>\n",
       "    <tr>\n",
       "      <th>2</th>\n",
       "      <td>Jr. Data Analyst</td>\n",
       "      <td>$34.00 /hr</td>\n",
       "      <td>$36.00</td>\n",
       "      <td>$35.00 /hr (est.)</td>\n",
       "      <td>4.9</td>\n",
       "      <td>Spartan Capital Group LLC\\n4.9</td>\n",
       "      <td>Remote</td>\n",
       "      <td>1 to 50 Employees</td>\n",
       "      <td>2018.0</td>\n",
       "      <td>Company - Private</td>\n",
       "      <td>Business Consulting</td>\n",
       "      <td>Management &amp; Consulting</td>\n",
       "      <td>$1 to $5 million (USD)</td>\n",
       "    </tr>\n",
       "    <tr>\n",
       "      <th>3</th>\n",
       "      <td>Data Analyst + Apprentice (Entry-Level)</td>\n",
       "      <td>$35K</td>\n",
       "      <td>$45K</td>\n",
       "      <td>$40,000 /yr (est.)</td>\n",
       "      <td>3.3</td>\n",
       "      <td>New Apprenticeship\\n3.3</td>\n",
       "      <td>Raleigh, NC</td>\n",
       "      <td>1 to 50 Employees</td>\n",
       "      <td>NaN</td>\n",
       "      <td>Company - Private</td>\n",
       "      <td>NaN</td>\n",
       "      <td>NaN</td>\n",
       "      <td>Unknown / Non-Applicable</td>\n",
       "    </tr>\n",
       "    <tr>\n",
       "      <th>4</th>\n",
       "      <td>Data Analyst</td>\n",
       "      <td>$90K</td>\n",
       "      <td>$110K</td>\n",
       "      <td>$100,000 /yr (est.)</td>\n",
       "      <td>4.6</td>\n",
       "      <td>Store Space Self Storage\\n4.6</td>\n",
       "      <td>Greenwood Village, CO</td>\n",
       "      <td>201 to 500 Employees</td>\n",
       "      <td>2017.0</td>\n",
       "      <td>Company - Private</td>\n",
       "      <td>Real Estate</td>\n",
       "      <td>Real Estate</td>\n",
       "      <td>Unknown / Non-Applicable</td>\n",
       "    </tr>\n",
       "  </tbody>\n",
       "</table>\n",
       "</div>"
      ],
      "text/plain": [
       "                                 Job Title Salary Minimum Salary Maximum  \\\n",
       "0                          IT-Data Analyst          $45K            $82K   \n",
       "1                Research and Data Analyst          $51K            $91K   \n",
       "2                         Jr. Data Analyst     $34.00 /hr         $36.00   \n",
       "3  Data Analyst + Apprentice (Entry-Level)          $35K            $45K   \n",
       "4                             Data Analyst          $90K           $110K   \n",
       "\n",
       "        Salary Average  Rating                                   Company Name  \\\n",
       "0   $61,021 /yr (est.)     3.9        Federated Mutual Insurance Company\\n3.9   \n",
       "1   $67,848 /yr (est.)     4.1  Association of American Medical Colleges\\n4.1   \n",
       "2    $35.00 /hr (est.)     4.9                 Spartan Capital Group LLC\\n4.9   \n",
       "3   $40,000 /yr (est.)     3.3                        New Apprenticeship\\n3.3   \n",
       "4  $100,000 /yr (est.)     4.6                  Store Space Self Storage\\n4.6   \n",
       "\n",
       "                Location                    Size  Founded  \\\n",
       "0           Owatonna, MN  1001 to 5000 Employees   1904.0   \n",
       "1         Washington, DC   501 to 1000 Employees   1876.0   \n",
       "2                 Remote       1 to 50 Employees   2018.0   \n",
       "3            Raleigh, NC       1 to 50 Employees      NaN   \n",
       "4  Greenwood Village, CO    201 to 500 Employees   2017.0   \n",
       "\n",
       "        Type of ownership                          Industry  \\\n",
       "0       Company - Private                Insurance Carriers   \n",
       "1  Nonprofit Organization  Health Care Services & Hospitals   \n",
       "2       Company - Private               Business Consulting   \n",
       "3       Company - Private                               NaN   \n",
       "4       Company - Private                       Real Estate   \n",
       "\n",
       "                    Sector                     Revenue  \n",
       "0                Insurance      $1 to $2 billion (USD)  \n",
       "1               Healthcare  $100 to $500 million (USD)  \n",
       "2  Management & Consulting      $1 to $5 million (USD)  \n",
       "3                      NaN    Unknown / Non-Applicable  \n",
       "4              Real Estate    Unknown / Non-Applicable  "
      ]
     },
     "execution_count": 11,
     "metadata": {},
     "output_type": "execute_result"
    }
   ],
   "source": [
    "#view data\n",
    "DA_data.head()"
   ]
  },
  {
   "cell_type": "code",
   "execution_count": 12,
   "id": "263dd7fb",
   "metadata": {},
   "outputs": [
    {
     "name": "stdout",
     "output_type": "stream",
     "text": [
      "<class 'pandas.core.frame.DataFrame'>\n",
      "RangeIndex: 700 entries, 0 to 699\n",
      "Data columns (total 13 columns):\n",
      " #   Column             Non-Null Count  Dtype  \n",
      "---  ------             --------------  -----  \n",
      " 0   Job Title          700 non-null    object \n",
      " 1   Salary Minimum     630 non-null    object \n",
      " 2   Salary Maximum     630 non-null    object \n",
      " 3   Salary Average     630 non-null    object \n",
      " 4   Rating             657 non-null    float64\n",
      " 5   Company Name       700 non-null    object \n",
      " 6   Location           700 non-null    object \n",
      " 7   Size               670 non-null    object \n",
      " 8   Founded            564 non-null    float64\n",
      " 9   Type of ownership  670 non-null    object \n",
      " 10  Industry           638 non-null    object \n",
      " 11  Sector             638 non-null    object \n",
      " 12  Revenue            670 non-null    object \n",
      "dtypes: float64(2), object(11)\n",
      "memory usage: 71.2+ KB\n"
     ]
    }
   ],
   "source": [
    "DA_data.info()"
   ]
  },
  {
   "cell_type": "code",
   "execution_count": null,
   "id": "9f89539e-bf05-4f15-a351-283464b4dd16",
   "metadata": {},
   "outputs": [],
   "source": []
  }
 ],
 "metadata": {
  "kernelspec": {
   "display_name": "Python 3.9.13 64-bit (windows store)",
   "language": "python",
   "name": "python3"
  },
  "language_info": {
   "codemirror_mode": {
    "name": "ipython",
    "version": 3
   },
   "file_extension": ".py",
   "mimetype": "text/x-python",
   "name": "python",
   "nbconvert_exporter": "python",
   "pygments_lexer": "ipython3",
   "version": "3.9.13"
  },
  "vscode": {
   "interpreter": {
    "hash": "bf21297fdaca2b6fa5dfcfdc3d9e5ea3822eee823e1751c84e0320dcd6daa7a7"
   }
  }
 },
 "nbformat": 4,
 "nbformat_minor": 5
}
