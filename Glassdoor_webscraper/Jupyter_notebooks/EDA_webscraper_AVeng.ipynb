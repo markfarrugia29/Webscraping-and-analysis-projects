Job Title
                                                    Converted Salary
Job Title                                                           
Technical Architect - System Engineer                  137580.000000
Senior Service Engineer - Audio-Visual System E...     136450.000000
IT Infrastructure Engineer - Washington, D.C.          135336.000000
Entry-Level Engineering Cab (eCab) Systems & In...     121623.000000
Sr. Audio-Visual Engineer                              120000.000000
Senior Associate, Audio-Visual Engineer                112500.000000
Technical Sound Designer                               112320.000000
Senior Audio Visual Design Engineer                    109986.000000
IT Support Manager II (OAV)                            109330.000000
AV Engineer                                            103407.200000
Lead Audio Visual Engineer                             101570.000000
Audio Visual Engineer Technical Specialist              97200.000000
Audio Visual Design Engineer/Estimator                  95000.000000
Field Support Engineer                                  94159.000000
Systems Engineer- AV                                    93471.000000
AV Systems Engineer                                     91774.000000
Systems Engineer - Audio/Visual Integration             90135.093750
Information Technology Help Desk Support - Up t...      90000.000000
AUDIO VIDEO SYSTEMS ENGINEER/Jr. CRESTRON PROGR...      90000.000000
Audio Visual Fabrication Engineer – Senior              88844.000000
Audio Visual Project Engineer                           87469.000000
Audio Visual (AV) Engineer                              87360.000000
Audio-Visual Engineer                                   86085.000000
Senior Audio Visual Technician                          85280.000000
Audio Visual Support Technician                         85000.000000
AV System Engineer                                      85000.000000
Audio-Visual Engineer Tier III                          83200.000000
AV Service Engineer                                     82500.000000
Audio Visual Engineer - Poly                            81352.000000
Audio Visual Design Engineer                            80713.147541
Audio Visual System Design Engineer                     80500.000000
Audio Visual Collaboration Engineer                     80142.000000
Audio Visual Sales Engineer                             79703.500000
Audio Visual Fabrication Engineer                       79670.000000
Audio Visual Technician (Sr. Engineer)                  76944.000000
Pre-Sales Design Engineer, Audio Visual Remote          75493.000000
R&D Test Engineer                                       75000.000000
Audio Visual Design Sales Engineer                      75000.000000
Audio Visual Technician                                 72008.227273
Senior Audio Visual Systems Engineer                    70828.000000
A/V Project Manager / Systems Design Engineer -...      70000.000000
Technical Design Engineer - Audio Visual - $70k...      70000.000000
(NY) Audio/Visual Design Engineer                       69978.000000
Audio Visual Engineer                                   69744.306452
Audio Visual Systems Engineer                           69038.800000
Audio Visual Production Engineer                        69038.000000
IT Services Technician II                               67558.000000
Senior Audio-Visual Systems Engineer                    66808.000000
Unified Comms/Audio Visual Engineer (AV Enginee...      66542.000000
AV/IT Support Engineer                                  66245.000000
Professional Audio-Visual Field Engineer                66212.000000
Audio Engineer                                          65776.000000
Audio Visual Technician (AV) - Santa Clara, CA          65414.000000
Audio/Video Journey Technician in IT Customer S...      64752.000000
Audio Visual Systems Field Engineer                     63005.000000
Audio Visual Field Engineer                             62813.333333
Professional Audio-Visual Systems Engineer              62446.000000
Onsite Audio Visual Engineer                            62229.000000
Audio Visual Engineer - Information Technology ...      60000.000000
AV Technician                                           59310.000000
Sneaky Big Studios - Audio Engineer                     57992.000000
Audio Visual (AV) Post Engineer                         55858.000000
UC - Audio Visual/Multimedia Engineer Level 2           55821.000000
Audio Visual Systems Design Engineer                    55000.000000
Information Technology (IT) Support Specialist          54090.000000
AV Field Engineer/Audio/Video Technician/Audio ...      51913.000000
Lead Audio Visual Field Technician                      51724.000000
Audio/Visual Technician                                 49136.000000
Sr. Network Technician-Audio Visual 1                   48321.000000
Audio Visual Technician II, Resort Entertainment        44934.000000
Coordinator and Audio-Video Engineer                    43456.000000
Audio & Visual Engineer                                 42529.000000
Freelance Audio Engineer I                              40427.000000
Audio Visual Technicians Sought                         39354.000000
Audio / Visual Support Specialist                       37440.000000
Salary Minimum
                Converted Salary
Salary Minimum                  
93.00              136458.000000
106.00             136450.000000
84.00              121623.000000
120.00             120000.000000
86.00              119014.000000
100.00             112500.000000
106.08             112320.000000
77.00              109986.000000
79.00              109330.000000
83.20              104000.000000
74.00              101570.000000
97.00               97200.000000
85.00               94485.294118
66.00               94159.000000
54.08               93600.000000
80.00               91282.051282
67.00               91253.000000
63.00               90877.090909
62.00               88844.000000
64.00               88479.000000
81.12               87360.000000
70.72               85280.000000
72.80               83200.000000
54.00               81199.090909
61.00               80500.000000
57.00               80142.000000
75.00               80000.000000
68.64               76960.000000
53.00               76845.000000
56.00               76235.934426
55.00               75970.210526
65.00               75173.230769
70.00               74924.448980
58.24               72800.000000
52.00               70722.516129
62.40               70304.000000
50.00               69106.250000
49.00               66401.653846
41.60               65288.888889
47.00               65221.000000
44.00               64314.333333
43.00               64147.666667
48.00               63005.000000
60.00               61718.750000
45.00               60696.750000
41.00               58414.000000
39.00               55858.000000
38.00               55701.500000
40.00               55690.000000
36.00               54090.000000
37.44               54080.000000
35.00               50419.056338
34.00               47005.000000
33.00               44934.000000
42.00               43456.000000
32.00               42529.000000
29.00               40427.000000
30.00               39354.000000
31.20               37440.000000
Salary Maximum
                Converted Salary
Salary Maximum                  
203.00             137580.000000
197.00             135336.000000
176.00             125329.750000
165.00             119014.000000
120.00             114615.384615
125.00             112500.000000
120.64             112320.000000
158.00             109986.000000
151.00             109330.000000
124.80             104000.000000
140.00             101570.000000
139.00              98766.000000
110.00              97500.000000
141.00              94313.000000
135.00              94159.000000
97.00               94088.578947
133.12              93600.000000
136.00              92745.000000
131.00              91883.000000
130.00              90873.575758
95.00               89642.857143
127.00              88844.000000
119.00              88513.000000
93.60               87040.000000
100.00              86218.750000
116.00              86085.000000
99.84               85280.000000
122.00              81352.000000
112.00              79672.333333
117.00              79670.000000
105.00              78108.903226
87.36               76960.000000
111.00              76845.000000
107.00              76622.000000
102.00              75493.000000
104.00              75252.695652
85.00               74916.333333
80.00               73206.485714
89.44               72800.000000
90.00               72649.862069
108.00              72437.000000
70.00               69687.500000
98.00               69227.828571
96.00               69020.409091
76.96               68640.000000
83.20               68438.709677
88.00               67558.000000
103.00              67259.000000
89.00               66212.000000
93.00               65914.062500
60.00               60000.000000
75.00               59747.000000
82.00               59737.428571
83.00               59413.000000
79.00               58975.000000
65.00               58543.500000
72.80               54080.000000
72.00               53388.000000
76.00               51809.500000
68.00               49136.000000
67.00               48321.000000
62.00               44934.000000
45.00               43456.000000
57.00               42529.000000
56.00               40427.000000
52.00               39354.000000
45.76               37440.000000
Salary Average
                Converted Salary
Salary Average                  
137580.00                 137580
136450.00                 136450
135336.00                 135336
121623.00                 121623
120000.00                 120000
119014.00                 119014
112500.00                 112500
54.50                     112320
109986.00                 109986
109330.00                 109330
50.00                     104000
101570.00                 101570
100000.00                 100000
98766.00                   98766
97500.00                   97500
97200.00                   97200
95000.00                   95000
94313.00                   94313
94159.00                   94159
45.35                      93600
93471.00                   93471
92745.00                   92745
91883.00                   91883
90706.00                   90706
90000.00                   90000
89035.00                   89035
88844.00                   88844
87469.00                   87469
42.71                      87360
86085.00                   86085
41.00                      85280
85000.00                   85000
40.00                      83200
82500.00                   82500
81352.00                   81352
80500.00                   80500
80142.00                   80142
80000.00                   80000
79670.00                   79670
78733.00                   78733
77500.00                   77500
37.50                      76960
76944.00                   76944
76845.00                   76845
76622.00                   76622
75934.00                   75934
75493.00                   75493
75000.00                   75000
35.50                      72800
35.00                      72800
72437.00                   72437
70828.00                   70828
70000.00                   70000
69978.00                   69978
69038.00                   69038
33.50                      68640
67985.00                   67985
67558.00                   67558
67259.00                   67259
66808.00                   66808
66542.00                   66542
66245.00                   66245
66212.00                   66212
65776.00                   65776
65414.00                   65414
65147.00                   65147
65000.00                   65000
64752.00                   64752
63005.00                   63005
62446.00                   62446
30.00                      62400
62229.00                   62229
62092.00                   62092
60000.00                   60000
59047.00                   59047
58414.00                   58414
57992.00                   57992
57568.00                   57568
55858.00                   55858
55821.00                   55821
55582.00                   55582
55000.00                   55000
54090.00                   54090
26.50                      54080
53388.00                   53388
51913.00                   51913
51724.00                   51724
49136.00                   49136
48321.00                   48321
47005.00                   47005
44934.00                   44934
43456.00                   43456
42529.00                   42529
40427.00                   40427
39354.00                   39354
18.50                      37440
Rating
        Converted Salary
Rating                  
4.4        104227.600000
3.2         94248.333333
2.9         90135.093750
3.5         89972.870968
3.8         86059.448718
2.0         85000.000000
3.9         81660.679245
4.3         79947.981132
4.1         78495.657143
4.2         77339.820225
4.0         77333.453125
3.6         71691.224299
3.7         68892.702703
3.0         68053.714286
3.1         65443.214286
4.7         64635.500000
1.9         63996.000000
3.4         59180.938776
5.0         55821.000000
3.3         54555.238095
4.5         39354.000000
Company Name
                                                  Converted Salary
Company Name                                                      
Federal Reserve Bank of New York                     137580.000000
Microsoft                                            136450.000000
TikTok                                               135336.000000
BOEING                                               121623.000000
Bloomberg                                            119014.000000
TM Technology Partners                               112500.000000
The World's Largest Social Network                   112320.000000
MasterCard                                           109986.000000
Amazon.com Services LLC                              109330.000000
SAIC                                                 101570.000000
Commercial Technology                                100000.000000
The Mom Project                                       98787.878788
Coupa Software                                        98766.000000
AV-Worx                                               97500.000000
Peraton                                               97200.000000
Insight Global                                        95680.000000
Network Cabling Services (NCS)                        95000.000000
Ricoh                                                 94313.000000
KINLY                                                 94159.000000
UCLA Health                                           93600.000000
NBCUniversal                                          93471.000000
SS&C Technologies                                     92745.000000
Cameo Global, Inc                                     91883.000000
Bluum                                                 90135.093750
Recruiting Resources, Inc.                            90000.000000
State of Washington Legislative Support Services      90000.000000
New Jersey Institute of Technology                    89035.000000
CHOISYS TECHNOLOGY INC                                88844.000000
DGI Communications                                    87469.000000
Robert Half                                           87360.000000
Applied Minds, LLC                                    86085.000000
Synapse Audio Visual Designs, LLC                     85280.000000
prosource.it                                          85000.000000
ELB US Inc.                                           85000.000000
AIS                                                   83200.000000
Presentation Products Inc                             82500.000000
American Water                                        81352.000000
CCS                                                   80500.000000
Texas Capital Bank                                    80142.000000
Digital Labor Solutions                               80000.000000
Exeter Government Servi                               79670.000000
Access Communications                                 78733.000000
Technology Providers Inc.                             77500.000000
NWN Carousel                                          76960.000000
Edwards Lifesciences                                  76944.000000
New Era Technology                                    76845.000000
PEC Solutions LLC                                     75970.210526
Johnson Controls                                      75493.000000
CI Software                                           75000.000000
Astronics AES                                         75000.000000
Vario                                                 75000.000000
Spectra Audio Design Group                            75000.000000
Otomashen Inc                                         72800.000000
Corporate Audio Visual Labor                          72800.000000
NWN Corporation                                       72800.000000
POWER Engineers, Inc.                                 70828.000000
All Pro Integrated Systems                            70000.000000
In-Focus Systems                                      70000.000000
A-V Services Inc.                                     69978.000000
United Center Joint Venture                           69038.000000
Infomatics Inc                                        68640.000000
Barnes & Thornburg LLP                                67985.000000
SpaceX                                                67558.000000
JVN Systems Inc.                                      67259.000000
Sacred Heart University                               66808.000000
Precision Solutions                                   66542.000000
Starz                                                 66245.000000
TRITECH                                               65777.461538
Cato Institute                                        65776.000000
Black Box                                             65414.000000
Susquehanna International Group                       65147.000000
First Baptist Church of Glenarden                     65000.000000
Central Washington University                         64752.000000
System Source                                         63005.000000
Vistacom, Inc                                         62400.000000
AVI-SPL                                               62229.000000
JSC Systems                                           62092.000000
California State University                           60000.000000
IES Communications                                    59047.000000
McKinstry                                             58414.000000
Yam Worldwide                                         57992.000000
Conference Technologies, Inc.                         57568.000000
Golden Star Technology                                55858.000000
IMPYRIAN                                              55821.000000
Riverside EpiCenter                                   55582.000000
Crescent Multimedia Solutions                         55000.000000
Whittle School & Studios                              54090.000000
Mason Technologies Inc.                               54080.000000
NEW ERA TECHNOLOGY                                    53388.000000
Quantum World Technologies Inc.                       51913.000000
EOS                                                   51724.000000
Signet Electronic System Inc                          49136.000000
Johns Hopkins Health System                           48321.000000
VIDEO REALITY INC                                     47005.000000
Yaamava Resort & Casino at San Manuel                 44934.000000
Youngstown State University                           43456.000000
Oral Roberts University                               42529.000000
Cory's Audio Visual                                   40427.000000
Rhino Staging                                         39354.000000
Location
                      Converted Salary
Location                              
San Diego, CA            112320.000000
O'Fallon, MO             109986.000000
Redmond, WA              102004.000000
Clifton, NJ              100000.000000
San Mateo, CA             98766.000000
West Palm Beach, FL       97500.000000
Honolulu, HI              97200.000000
Boston, MA                96160.000000
Dallas, TX                95000.000000
Los Angeles, CA           93600.000000
Seattle, WA               92777.285714
Sunnyvale, CA             91883.000000
Pasadena, CA              90000.000000
Olympia, WA               90000.000000
Newark, NJ                89035.000000
Fort Gordon, GA           88844.000000
Remote                    88240.740741
Billerica, MA             87469.000000
Richardson, TX            86804.769231
Burbank, CA               86085.000000
Paramus, NJ               85280.000000
Golden, CO                83200.000000
Camden, NJ                81352.000000
Washington, DC            80945.724138
Denver, CO                80500.000000
Augusta, GA               79670.000000
San Jose, CA              78733.000000
New York, NY              78498.902326
Gilbert, AZ               77500.000000
Brighton, MI              76960.000000
Irvine, CA                76944.000000
Plymouth, MN              75934.000000
Roswell, GA               75493.000000
Kirkland, WA              75000.000000
Lexington, MA             75000.000000
New Orleans, LA           72800.000000
Philadelphia, PA          72800.000000
Saint Paul, MN            72437.000000
Boise, ID                 70828.000000
United States             70000.000000
Farmington Hills, MI      68640.000000
Chicago, IL               68511.500000
Deer Park, NY             67259.000000
Fairfield, CT             66808.000000
Arnold, MO                66542.000000
Santa Monica, CA          66245.000000
Santa Clara, CA           65414.000000
Bala Cynwyd, PA           65147.000000
Landover, MD              65000.000000
Ellensburg, WA            64752.000000
Hunt Valley, MD           63005.000000
Garden City, NY           62446.000000
Pennsylvania              62400.000000
Redwood City, CA          62229.000000
Jacksonville, FL          62092.000000
San Francisco, CA         60000.000000
Atlanta, GA               59472.000000
Sterling, VA              59047.000000
Scottsdale, AZ            57992.000000
Las Vegas, NV             57988.000000
Cerritos, CA              55858.000000
Fort Meade, MD            55821.000000
Austell, GA               55582.000000
New York State            54080.000000
Minnetonka, MN            53388.000000
Baytown, TX               51913.000000
Norwell, MA               49136.000000
Saint Petersburg, FL      48321.000000
Highland, CA              44934.000000
Oklahoma City, OK         43716.000000
Youngstown, OH            43456.000000
Tulsa, OK                 42529.000000
Salt Lake City, UT        37440.000000
Size
                         Converted Salary
Size                                     
1 to 50 Employees            83369.960317
5001 to 10000 Employees      83169.285714
10000+ Employees             82891.438202
51 to 200 Employees          73504.982456
501 to 1000 Employees        72477.105263
Unknown                      70919.909091
201 to 500 Employees         69418.923077
1001 to 5000 Employees       69226.392857
Founded
         Converted Salary
Founded                  
1913.0      137580.000000
1916.0      121623.000000
2012.0      112320.000000
1966.0      109986.000000
2016.0       99862.823529
2006.0       98766.000000
1969.0       98280.166667
2014.0       97500.000000
2017.0       97200.000000
2001.0       95680.000000
1936.0       94313.000000
1919.0       93600.000000
1981.0       91009.500000
1946.0       90135.093750
1994.0       89152.666667
1881.0       89035.000000
1948.0       87360.000000
1999.0       85000.000000
2003.0       83200.000000
1886.0       81352.000000
1975.0       77253.333333
1958.0       76944.000000
1885.0       75493.000000
1986.0       73399.952381
1889.0       70297.200000
1980.0       70000.000000
1998.0       69433.241379
1976.0       69144.000000
1960.0       68893.875000
1940.0       67985.000000
2018.0       67446.333333
1987.0       65147.000000
1917.0       65000.000000
2002.0       64856.333333
1963.0       64784.750000
1979.0       62229.000000
1962.0       60000.000000
2010.0       57992.000000
1988.0       57568.000000
1985.0       55858.000000
2008.0       51724.000000
1974.0       49136.000000
1993.0       47005.000000
1908.0       43456.000000
1953.0       40427.000000
1991.0       39354.000000
Type of ownership
                                Converted Salary
Type of ownership                               
Private Practice / Firm             94185.000000
Government                          90841.250000
Company - Public                    80186.028249
Subsidiary or Business Segment      76730.000000
Company - Private                   75622.912941
Franchise                           75000.000000
Nonprofit Organization              65727.500000
College / University                62056.489362
School / School District            54090.000000
Industry
                                          Converted Salary
Industry                                                  
National Agencies                            137580.000000
Internet & Web Services                      122333.000000
Financial Transaction Processing             109986.000000
Business Consulting                          105192.307692
Computer Hardware Development                103858.800000
Aerospace & Defense                          100946.882353
HR Consulting                                 94985.882353
State & Regional Agencies                     90000.000000
Broadcast Media                               84395.666667
Enterprise Software & Network Solutions       82888.714286
Banking & Lending                             80142.000000
Health Care Products Manufacturing            76944.000000
Information Technology Support Services       76277.176991
Machinery Manufacturing                       75493.000000
Energy & Utilities                            75037.600000
Advertising & Public Relations                75000.000000
Travel Agencies                               75000.000000
Architectural & Engineering Services          70000.000000
Legal                                         67985.000000
Consumer Product Manufacturing                66542.000000
Telecommunications Services                   66444.434783
Biotech & Pharmaceuticals                     65777.461538
Grantmaking & Charitable Foundations          65776.000000
Stock Exchanges                               65147.000000
Civic & Social Services                       65000.000000
Security & Protective                         62092.000000
Colleges & Universities                       62056.489362
Cable, Internet & Telephone Providers         59047.000000
Construction                                  58414.000000
Real Estate                                   57992.000000
Primary & Secondary Schools                   54090.000000
Health Care Services & Hospitals              53005.034483
Consumer Electronics & Appliances Stores      47005.000000
Gambling                                      44934.000000
Audiovisual                                   40427.000000
Culture & Entertainment                       39354.000000
Sector
                                             Converted Salary
Sector                                                       
Management & Consulting                         104114.800000
Aerospace & Defense                             100946.882353
Human Resources & Staffing                       94985.882353
Government & Public Administration               91586.000000
Information Technology                           78452.771654
Media & Communication                            76174.458333
Manufacturing                                    76036.081967
Energy, Mining & Utilities                       75037.600000
Hotels & Travel Accommodation                    75000.000000
Financial Services                               69548.705882
Legal                                            67985.000000
Telecommunications                               66287.042553
Pharmaceutical & Biotechnology                   65777.461538
Nonprofit & NGO                                  65727.500000
Education                                        61731.326531
Construction, Repair & Maintenance Services      61310.500000
Real Estate                                      57992.000000
Healthcare                                       53005.034483
Retail & Wholesale                               47005.000000
Arts, Entertainment & Recreation                 41571.666667
Revenue
                                  Converted Salary
Revenue                                           
$5 to $10 billion (USD)               91881.571429
$5 to $10 million (USD)               91633.176471
Less than $1 million (USD)            88844.000000
$2 to $5 billion (USD)                79023.220000
$10+ billion (USD)                    78034.521277
$1 to $2 billion (USD)                77548.333333
Unknown / Non-Applicable              76326.278626
$25 to $50 million (USD)              74432.032258
$10 to $25 million (USD)              68835.870968
$1 to $5 million (USD)                65777.461538
$100 to $500 million (USD)            65420.045455
$500 million to $1 billion (USD)      60726.606061
$50 to $100 million (USD)             58318.800000
Average Hourly Rate
                     Converted Salary
Average Hourly Rate                  
0                        76683.042213
1                        76550.551181
City
                  Converted Salary
City                              
San Diego            112320.000000
O'Fallon             109986.000000
Redmond              102004.000000
Clifton              100000.000000
San Mateo             98766.000000
West Palm Beach       97500.000000
Honolulu              97200.000000
Boston                96160.000000
Dallas                95000.000000
Los Angeles           93600.000000
Seattle               92777.285714
Sunnyvale             91883.000000
Pasadena              90000.000000
Olympia               90000.000000
Newark                89035.000000
Fort Gordon           88844.000000
Remote                88240.740741
Billerica             87469.000000
Richardson            86804.769231
Burbank               86085.000000
Paramus               85280.000000
Golden                83200.000000
Camden                81352.000000
Washington            80945.724138
Denver                80500.000000
Augusta               79670.000000
San Jose              78733.000000
New York              78498.902326
Gilbert               77500.000000
Brighton              76960.000000
Irvine                76944.000000
Plymouth              75934.000000
Roswell               75493.000000
Kirkland              75000.000000
Lexington             75000.000000
New Orleans           72800.000000
Philadelphia          72800.000000
Saint Paul            72437.000000
Boise                 70828.000000
United States         70000.000000
Farmington Hills      68640.000000
Chicago               68511.500000
Deer Park             67259.000000
Fairfield             66808.000000
Arnold                66542.000000
Santa Monica          66245.000000
Santa Clara           65414.000000
Bala Cynwyd           65147.000000
Landover              65000.000000
Ellensburg            64752.000000
Hunt Valley           63005.000000
Garden City           62446.000000
Pennsylvania          62400.000000
Redwood City          62229.000000
Jacksonville          62092.000000
San Francisco         60000.000000
Atlanta               59472.000000
Sterling              59047.000000
Scottsdale            57992.000000
Las Vegas             57988.000000
Cerritos              55858.000000
Fort Meade            55821.000000
Austell               55582.000000
New York State        54080.000000
Minnetonka            53388.000000
Baytown               51913.000000
Norwell               49136.000000
Saint Petersburg      48321.000000
Highland              44934.000000
Oklahoma City         43716.000000
Youngstown            43456.000000
Tulsa                 42529.000000
Salt Lake City        37440.000000
State
        Converted Salary
State                   
HI          97200.000000
WA          88873.928571
MO          88264.000000
Remote      87909.090909
NJ          86279.687500
DC          80945.724138
CO          80784.210526
NY          77398.927039
AZ          76280.750000
MN          74631.850000
CA          74267.912088
TX          73048.319149
LA          72800.000000
GA          72554.069767
MA          71742.428571
ID          70828.000000
MI          69213.793103
FL          68933.434783
IL          68511.500000
CT          66808.000000
PA          64443.379310
MD          61275.333333
VA          59047.000000
NV          57988.000000
OH          43456.000000
OK          43320.333333
UT          37440.000000
Company Age (years)
                     Converted Salary
Company Age (years)                  
109.0                   137580.000000
106.0                   121623.000000
10.0                    112320.000000
56.0                    109986.000000
6.0                      99862.823529
16.0                     98766.000000
53.0                     98280.166667
8.0                      97500.000000
5.0                      97200.000000
21.0                     95680.000000
86.0                     94313.000000
103.0                    93600.000000
41.0                     91009.500000
76.0                     90135.093750
28.0                     89152.666667
141.0                    89035.000000
74.0                     87360.000000
23.0                     85000.000000
19.0                     83200.000000
136.0                    81352.000000
47.0                     77253.333333
64.0                     76944.000000
137.0                    75493.000000
36.0                     73399.952381
133.0                    70297.200000
42.0                     70000.000000
24.0                     69433.241379
46.0                     69144.000000
62.0                     68893.875000
82.0                     67985.000000
4.0                      67446.333333
35.0                     65147.000000
105.0                    65000.000000
20.0                     64856.333333
59.0                     64784.750000
43.0                     62229.000000
60.0                     60000.000000
12.0                     57992.000000
34.0                     57568.000000
37.0                     55858.000000
14.0                     51724.000000
48.0                     49136.000000
29.0                     47005.000000
114.0                    43456.000000
69.0                     40427.000000
31.0                     39354.000000
Title Grouping
                Converted Salary
Title Grouping                  
Unbinned            88095.500000
engineer            78981.207658
technician          60982.782609
Seniority Level
                 Converted Salary
Seniority Level                  
junior               90000.000000
senior               78767.751412
na                   75413.286184
Converted Salary
