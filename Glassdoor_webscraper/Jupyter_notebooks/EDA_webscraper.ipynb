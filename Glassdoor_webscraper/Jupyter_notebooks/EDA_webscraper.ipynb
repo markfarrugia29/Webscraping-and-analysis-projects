{
 "cells": [
  {
   "cell_type": "markdown",
   "metadata": {},
   "source": [
    "# **Exploratory Data Analysis**\n",
    "Let's take a look at the cleaned up data file prepared from the webscraped data from Glassdoor."
   ]
  },
  {
   "cell_type": "code",
   "execution_count": 1,
   "metadata": {},
   "outputs": [],
   "source": [
    "#import appropriate libraries\n",
    "#!pip install seaborn\n",
    "import pandas as pd\n",
    "import matplotlib.pyplot as plt\n",
    "import seaborn as sns"
   ]
  },
  {
   "cell_type": "code",
   "execution_count": 5,
   "metadata": {},
   "outputs": [
    {
     "data": {
      "text/html": [
       "<div>\n",
       "<style scoped>\n",
       "    .dataframe tbody tr th:only-of-type {\n",
       "        vertical-align: middle;\n",
       "    }\n",
       "\n",
       "    .dataframe tbody tr th {\n",
       "        vertical-align: top;\n",
       "    }\n",
       "\n",
       "    .dataframe thead th {\n",
       "        text-align: right;\n",
       "    }\n",
       "</style>\n",
       "<table border=\"1\" class=\"dataframe\">\n",
       "  <thead>\n",
       "    <tr style=\"text-align: right;\">\n",
       "      <th></th>\n",
       "      <th>Job Title</th>\n",
       "      <th>Salary Minimum</th>\n",
       "      <th>Salary Maximum</th>\n",
       "      <th>Salary Average</th>\n",
       "      <th>Rating</th>\n",
       "      <th>Company Name</th>\n",
       "      <th>Location</th>\n",
       "      <th>Size</th>\n",
       "      <th>Founded</th>\n",
       "      <th>Type of ownership</th>\n",
       "      <th>Industry</th>\n",
       "      <th>Sector</th>\n",
       "      <th>Revenue</th>\n",
       "      <th>Average Hourly Rate</th>\n",
       "      <th>Converted Salary</th>\n",
       "      <th>City</th>\n",
       "      <th>State</th>\n",
       "      <th>Company Age (years)</th>\n",
       "      <th>Title Grouping</th>\n",
       "      <th>Seniority Level</th>\n",
       "    </tr>\n",
       "  </thead>\n",
       "  <tbody>\n",
       "    <tr>\n",
       "      <th>0</th>\n",
       "      <td>Audio Visual System Design Engineer</td>\n",
       "      <td>61</td>\n",
       "      <td>100.0</td>\n",
       "      <td>80500.0</td>\n",
       "      <td>NaN</td>\n",
       "      <td>CCS</td>\n",
       "      <td>Denver, CO</td>\n",
       "      <td>NaN</td>\n",
       "      <td>NaN</td>\n",
       "      <td>NaN</td>\n",
       "      <td>NaN</td>\n",
       "      <td>NaN</td>\n",
       "      <td>NaN</td>\n",
       "      <td>0</td>\n",
       "      <td>80500</td>\n",
       "      <td>Denver</td>\n",
       "      <td>CO</td>\n",
       "      <td>NaN</td>\n",
       "      <td>engineer</td>\n",
       "      <td>na</td>\n",
       "    </tr>\n",
       "    <tr>\n",
       "      <th>1</th>\n",
       "      <td>Audio Visual Design Engineer</td>\n",
       "      <td>85</td>\n",
       "      <td>110.0</td>\n",
       "      <td>97500.0</td>\n",
       "      <td>4.3</td>\n",
       "      <td>AV-Worx</td>\n",
       "      <td>West Palm Beach, FL</td>\n",
       "      <td>1 to 50 Employees</td>\n",
       "      <td>2014.0</td>\n",
       "      <td>Company - Private</td>\n",
       "      <td>Business Consulting</td>\n",
       "      <td>Management &amp; Consulting</td>\n",
       "      <td>$5 to $10 million (USD)</td>\n",
       "      <td>0</td>\n",
       "      <td>97500</td>\n",
       "      <td>West Palm Beach</td>\n",
       "      <td>FL</td>\n",
       "      <td>8.0</td>\n",
       "      <td>engineer</td>\n",
       "      <td>na</td>\n",
       "    </tr>\n",
       "    <tr>\n",
       "      <th>2</th>\n",
       "      <td>Audio Visual Systems Field Engineer</td>\n",
       "      <td>48</td>\n",
       "      <td>83.0</td>\n",
       "      <td>63005.0</td>\n",
       "      <td>4.3</td>\n",
       "      <td>System Source</td>\n",
       "      <td>Hunt Valley, MD</td>\n",
       "      <td>51 to 200 Employees</td>\n",
       "      <td>1981.0</td>\n",
       "      <td>Company - Private</td>\n",
       "      <td>Information Technology Support Services</td>\n",
       "      <td>Information Technology</td>\n",
       "      <td>$10 to $25 million (USD)</td>\n",
       "      <td>0</td>\n",
       "      <td>63005</td>\n",
       "      <td>Hunt Valley</td>\n",
       "      <td>MD</td>\n",
       "      <td>41.0</td>\n",
       "      <td>engineer</td>\n",
       "      <td>na</td>\n",
       "    </tr>\n",
       "    <tr>\n",
       "      <th>3</th>\n",
       "      <td>(NY) Audio/Visual Design Engineer</td>\n",
       "      <td>50</td>\n",
       "      <td>98.0</td>\n",
       "      <td>69978.0</td>\n",
       "      <td>3.8</td>\n",
       "      <td>A-V Services Inc.</td>\n",
       "      <td>New York, NY</td>\n",
       "      <td>201 to 500 Employees</td>\n",
       "      <td>1960.0</td>\n",
       "      <td>Company - Private</td>\n",
       "      <td>Telecommunications Services</td>\n",
       "      <td>Telecommunications</td>\n",
       "      <td>Unknown / Non-Applicable</td>\n",
       "      <td>0</td>\n",
       "      <td>69978</td>\n",
       "      <td>New York</td>\n",
       "      <td>NY</td>\n",
       "      <td>62.0</td>\n",
       "      <td>engineer</td>\n",
       "      <td>na</td>\n",
       "    </tr>\n",
       "    <tr>\n",
       "      <th>4</th>\n",
       "      <td>Audio Visual Engineer</td>\n",
       "      <td>44</td>\n",
       "      <td>103.0</td>\n",
       "      <td>67259.0</td>\n",
       "      <td>3.1</td>\n",
       "      <td>JVN Systems Inc.</td>\n",
       "      <td>Deer Park, NY</td>\n",
       "      <td>1 to 50 Employees</td>\n",
       "      <td>NaN</td>\n",
       "      <td>Company - Private</td>\n",
       "      <td>NaN</td>\n",
       "      <td>NaN</td>\n",
       "      <td>$5 to $10 million (USD)</td>\n",
       "      <td>0</td>\n",
       "      <td>67259</td>\n",
       "      <td>Deer Park</td>\n",
       "      <td>NY</td>\n",
       "      <td>NaN</td>\n",
       "      <td>engineer</td>\n",
       "      <td>na</td>\n",
       "    </tr>\n",
       "    <tr>\n",
       "      <th>...</th>\n",
       "      <td>...</td>\n",
       "      <td>...</td>\n",
       "      <td>...</td>\n",
       "      <td>...</td>\n",
       "      <td>...</td>\n",
       "      <td>...</td>\n",
       "      <td>...</td>\n",
       "      <td>...</td>\n",
       "      <td>...</td>\n",
       "      <td>...</td>\n",
       "      <td>...</td>\n",
       "      <td>...</td>\n",
       "      <td>...</td>\n",
       "      <td>...</td>\n",
       "      <td>...</td>\n",
       "      <td>...</td>\n",
       "      <td>...</td>\n",
       "      <td>...</td>\n",
       "      <td>...</td>\n",
       "      <td>...</td>\n",
       "    </tr>\n",
       "    <tr>\n",
       "      <th>811</th>\n",
       "      <td>Audio Visual Field Engineer</td>\n",
       "      <td>20.00</td>\n",
       "      <td>40.0</td>\n",
       "      <td>30.0</td>\n",
       "      <td>NaN</td>\n",
       "      <td>Vistacom, Inc</td>\n",
       "      <td>Pennsylvania</td>\n",
       "      <td>NaN</td>\n",
       "      <td>NaN</td>\n",
       "      <td>NaN</td>\n",
       "      <td>NaN</td>\n",
       "      <td>NaN</td>\n",
       "      <td>NaN</td>\n",
       "      <td>1</td>\n",
       "      <td>62400</td>\n",
       "      <td>Pennsylvania</td>\n",
       "      <td>PA</td>\n",
       "      <td>NaN</td>\n",
       "      <td>engineer</td>\n",
       "      <td>na</td>\n",
       "    </tr>\n",
       "    <tr>\n",
       "      <th>812</th>\n",
       "      <td>Pre-Sales Design Engineer, Audio Visual Remote</td>\n",
       "      <td>56</td>\n",
       "      <td>102.0</td>\n",
       "      <td>75493.0</td>\n",
       "      <td>3.6</td>\n",
       "      <td>Johnson Controls</td>\n",
       "      <td>Roswell, GA</td>\n",
       "      <td>10000+ Employees</td>\n",
       "      <td>1885.0</td>\n",
       "      <td>Company - Public</td>\n",
       "      <td>Machinery Manufacturing</td>\n",
       "      <td>Manufacturing</td>\n",
       "      <td>$10+ billion (USD)</td>\n",
       "      <td>0</td>\n",
       "      <td>75493</td>\n",
       "      <td>Roswell</td>\n",
       "      <td>GA</td>\n",
       "      <td>137.0</td>\n",
       "      <td>engineer</td>\n",
       "      <td>na</td>\n",
       "    </tr>\n",
       "    <tr>\n",
       "      <th>813</th>\n",
       "      <td>Audio Visual Sales Engineer</td>\n",
       "      <td>70</td>\n",
       "      <td>80.0</td>\n",
       "      <td>75000.0</td>\n",
       "      <td>NaN</td>\n",
       "      <td>Vario</td>\n",
       "      <td>Remote</td>\n",
       "      <td>NaN</td>\n",
       "      <td>NaN</td>\n",
       "      <td>NaN</td>\n",
       "      <td>NaN</td>\n",
       "      <td>NaN</td>\n",
       "      <td>NaN</td>\n",
       "      <td>0</td>\n",
       "      <td>75000</td>\n",
       "      <td>Remote</td>\n",
       "      <td>Remote</td>\n",
       "      <td>NaN</td>\n",
       "      <td>engineer</td>\n",
       "      <td>na</td>\n",
       "    </tr>\n",
       "    <tr>\n",
       "      <th>814</th>\n",
       "      <td>Audio Visual Systems Engineer</td>\n",
       "      <td>70</td>\n",
       "      <td>70.0</td>\n",
       "      <td>70000.0</td>\n",
       "      <td>4.2</td>\n",
       "      <td>The Mom Project</td>\n",
       "      <td>New York, NY</td>\n",
       "      <td>51 to 200 Employees</td>\n",
       "      <td>2016.0</td>\n",
       "      <td>Company - Private</td>\n",
       "      <td>HR Consulting</td>\n",
       "      <td>Human Resources &amp; Staffing</td>\n",
       "      <td>Unknown / Non-Applicable</td>\n",
       "      <td>0</td>\n",
       "      <td>70000</td>\n",
       "      <td>New York</td>\n",
       "      <td>NY</td>\n",
       "      <td>6.0</td>\n",
       "      <td>engineer</td>\n",
       "      <td>na</td>\n",
       "    </tr>\n",
       "    <tr>\n",
       "      <th>815</th>\n",
       "      <td>Lead Audio Visual Field Technician</td>\n",
       "      <td>35</td>\n",
       "      <td>76.0</td>\n",
       "      <td>51724.0</td>\n",
       "      <td>3.4</td>\n",
       "      <td>EOS</td>\n",
       "      <td>New York, NY</td>\n",
       "      <td>501 to 1000 Employees</td>\n",
       "      <td>2008.0</td>\n",
       "      <td>Company - Private</td>\n",
       "      <td>Information Technology Support Services</td>\n",
       "      <td>Information Technology</td>\n",
       "      <td>Unknown / Non-Applicable</td>\n",
       "      <td>0</td>\n",
       "      <td>51724</td>\n",
       "      <td>New York</td>\n",
       "      <td>NY</td>\n",
       "      <td>14.0</td>\n",
       "      <td>technician</td>\n",
       "      <td>senior</td>\n",
       "    </tr>\n",
       "  </tbody>\n",
       "</table>\n",
       "<p>816 rows × 20 columns</p>\n",
       "</div>"
      ],
      "text/plain": [
       "                                          Job Title Salary Minimum  \\\n",
       "0               Audio Visual System Design Engineer            61    \n",
       "1                      Audio Visual Design Engineer            85    \n",
       "2               Audio Visual Systems Field Engineer            48    \n",
       "3                 (NY) Audio/Visual Design Engineer            50    \n",
       "4                             Audio Visual Engineer            44    \n",
       "..                                              ...            ...   \n",
       "811                     Audio Visual Field Engineer         20.00    \n",
       "812  Pre-Sales Design Engineer, Audio Visual Remote            56    \n",
       "813                     Audio Visual Sales Engineer            70    \n",
       "814                   Audio Visual Systems Engineer            70    \n",
       "815              Lead Audio Visual Field Technician            35    \n",
       "\n",
       "     Salary Maximum  Salary Average  Rating       Company Name  \\\n",
       "0             100.0         80500.0     NaN                CCS   \n",
       "1             110.0         97500.0     4.3            AV-Worx   \n",
       "2              83.0         63005.0     4.3      System Source   \n",
       "3              98.0         69978.0     3.8  A-V Services Inc.   \n",
       "4             103.0         67259.0     3.1   JVN Systems Inc.   \n",
       "..              ...             ...     ...                ...   \n",
       "811            40.0            30.0     NaN      Vistacom, Inc   \n",
       "812           102.0         75493.0     3.6   Johnson Controls   \n",
       "813            80.0         75000.0     NaN              Vario   \n",
       "814            70.0         70000.0     4.2    The Mom Project   \n",
       "815            76.0         51724.0     3.4                EOS   \n",
       "\n",
       "                Location                   Size  Founded  Type of ownership  \\\n",
       "0             Denver, CO                    NaN      NaN                NaN   \n",
       "1    West Palm Beach, FL      1 to 50 Employees   2014.0  Company - Private   \n",
       "2        Hunt Valley, MD    51 to 200 Employees   1981.0  Company - Private   \n",
       "3           New York, NY   201 to 500 Employees   1960.0  Company - Private   \n",
       "4          Deer Park, NY      1 to 50 Employees      NaN  Company - Private   \n",
       "..                   ...                    ...      ...                ...   \n",
       "811         Pennsylvania                    NaN      NaN                NaN   \n",
       "812          Roswell, GA       10000+ Employees   1885.0   Company - Public   \n",
       "813               Remote                    NaN      NaN                NaN   \n",
       "814         New York, NY    51 to 200 Employees   2016.0  Company - Private   \n",
       "815         New York, NY  501 to 1000 Employees   2008.0  Company - Private   \n",
       "\n",
       "                                    Industry                      Sector  \\\n",
       "0                                        NaN                         NaN   \n",
       "1                        Business Consulting     Management & Consulting   \n",
       "2    Information Technology Support Services      Information Technology   \n",
       "3                Telecommunications Services          Telecommunications   \n",
       "4                                        NaN                         NaN   \n",
       "..                                       ...                         ...   \n",
       "811                                      NaN                         NaN   \n",
       "812                  Machinery Manufacturing               Manufacturing   \n",
       "813                                      NaN                         NaN   \n",
       "814                            HR Consulting  Human Resources & Staffing   \n",
       "815  Information Technology Support Services      Information Technology   \n",
       "\n",
       "                      Revenue  Average Hourly Rate  Converted Salary  \\\n",
       "0                         NaN                    0             80500   \n",
       "1     $5 to $10 million (USD)                    0             97500   \n",
       "2    $10 to $25 million (USD)                    0             63005   \n",
       "3    Unknown / Non-Applicable                    0             69978   \n",
       "4     $5 to $10 million (USD)                    0             67259   \n",
       "..                        ...                  ...               ...   \n",
       "811                       NaN                    1             62400   \n",
       "812        $10+ billion (USD)                    0             75493   \n",
       "813                       NaN                    0             75000   \n",
       "814  Unknown / Non-Applicable                    0             70000   \n",
       "815  Unknown / Non-Applicable                    0             51724   \n",
       "\n",
       "                City   State  Company Age (years) Title Grouping  \\\n",
       "0             Denver      CO                  NaN       engineer   \n",
       "1    West Palm Beach      FL                  8.0       engineer   \n",
       "2        Hunt Valley      MD                 41.0       engineer   \n",
       "3           New York      NY                 62.0       engineer   \n",
       "4          Deer Park      NY                  NaN       engineer   \n",
       "..               ...     ...                  ...            ...   \n",
       "811     Pennsylvania      PA                  NaN       engineer   \n",
       "812          Roswell      GA                137.0       engineer   \n",
       "813           Remote  Remote                  NaN       engineer   \n",
       "814         New York      NY                  6.0       engineer   \n",
       "815         New York      NY                 14.0     technician   \n",
       "\n",
       "    Seniority Level  \n",
       "0                na  \n",
       "1                na  \n",
       "2                na  \n",
       "3                na  \n",
       "4                na  \n",
       "..              ...  \n",
       "811              na  \n",
       "812              na  \n",
       "813              na  \n",
       "814              na  \n",
       "815          senior  \n",
       "\n",
       "[816 rows x 20 columns]"
      ]
     },
     "execution_count": 5,
     "metadata": {},
     "output_type": "execute_result"
    }
   ],
   "source": [
    "#load the .csv saved in the cleanup notebook into a dataframe\n",
    "file = r\"C:\\Users\\Tineash\\Projects\\Glassdoor_webscraper\\Data\\AV_eng_data_cleaned.csv\" #copy the file path between the double quotes\n",
    "df = pd.read_csv(file)\n",
    "df"
   ]
  },
  {
   "cell_type": "code",
   "execution_count": 6,
   "metadata": {},
   "outputs": [
    {
     "data": {
      "text/plain": [
       "Index(['Job Title', 'Salary Minimum', 'Salary Maximum', 'Salary Average',\n",
       "       'Rating', 'Company Name', 'Location', 'Size', 'Founded',\n",
       "       'Type of ownership', 'Industry', 'Sector', 'Revenue',\n",
       "       'Average Hourly Rate', 'Converted Salary', 'City', 'State',\n",
       "       'Company Age (years)', 'Title Grouping', 'Seniority Level'],\n",
       "      dtype='object')"
      ]
     },
     "execution_count": 6,
     "metadata": {},
     "output_type": "execute_result"
    }
   ],
   "source": [
    "#Let's remind ourselves what data attributes we have\n",
    "df.columns"
   ]
  },
  {
   "cell_type": "markdown",
   "metadata": {},
   "source": [
    "There are a few things I am interested in looking over at first glance. First, let's begin with the **continuous values**. Company age, converted salary, and rating could all use a quick glance. Let's also plot out a boxplot comparing the minimum and maximum salaries. "
   ]
  },
  {
   "cell_type": "code",
   "execution_count": null,
   "metadata": {},
   "outputs": [],
   "source": [
    "company_age_hist=df['Company Age (years)'].hist()\n",
    "company_age_hist"
   ]
  },
  {
   "cell_type": "code",
   "execution_count": null,
   "metadata": {},
   "outputs": [],
   "source": [
    "company_rating_hist=df['Rating'].hist(range=[0,5])\n",
    "company_rating_hist"
   ]
  },
  {
   "cell_type": "code",
   "execution_count": null,
   "metadata": {},
   "outputs": [],
   "source": [
    "avg_salary_hist = df['Converted Salary'].hist()\n",
    "avg_salary_hist"
   ]
  },
  {
   "cell_type": "code",
   "execution_count": null,
   "metadata": {},
   "outputs": [],
   "source": [
    "rating_boxplot = df.boxplot(column = 'Rating')\n",
    "rating_boxplot"
   ]
  },
  {
   "cell_type": "code",
   "execution_count": null,
   "metadata": {},
   "outputs": [],
   "source": [
    "avg_salary_boxplot = df.boxplot(column = 'Converted Salary')\n",
    "avg_salary_boxplot\n"
   ]
  },
  {
   "cell_type": "code",
   "execution_count": null,
   "metadata": {},
   "outputs": [],
   "source": [
    "company_age_boxplot = df.boxplot(column = 'Company Age (years)')\n",
    "company_age_boxplot"
   ]
  },
  {
   "cell_type": "code",
   "execution_count": null,
   "metadata": {},
   "outputs": [],
   "source": []
  },
  {
   "cell_type": "code",
   "execution_count": null,
   "metadata": {},
   "outputs": [],
   "source": [
    "min_v_max_salary = df.boxplot(column = ['Salary Minimum', 'Salary Maximum'])\n",
    "min_v_max_salary"
   ]
  },
  {
   "cell_type": "markdown",
   "metadata": {},
   "source": [
    "This comparison tells us that the median salary minimum is in the upper $50k, the median salary maximum is in the mid $90k, and the bulk of the ranges are $50k-$80k for the minimum and $80k-110k for the maximum. It would be nice to include a median salary across all jobs to compare this field to all fields, but that will have to be at a different time. "
   ]
  },
  {
   "cell_type": "code",
   "execution_count": null,
   "metadata": {},
   "outputs": [],
   "source": [
    "#Let's see if there are correlations between some continuous variables\n",
    "df[['Company Age (years)', 'Rating', 'Converted Salary']].corr() # get positive/negative coorelation between all variables listed"
   ]
  },
  {
   "cell_type": "code",
   "execution_count": null,
   "metadata": {},
   "outputs": [],
   "source": [
    "cmap = sns.diverging_palette(220,10,as_cmap=True)\n",
    "sns.heatmap(df[['Company Age (years)', 'Rating', 'Converted Salary']].corr(),vmax=.3, center=0, cmap=cmap,\n",
    "            square=True,linewidths=.5,cbar_kws={\"shrink\":.5})"
   ]
  },
  {
   "cell_type": "markdown",
   "metadata": {},
   "source": [
    "Above, we see that there is a very slight positive coorelation between the rating of the company and the yearly salary of the company. The age of the company has a slight negative coorelation with yearly salary.\n",
    "\n",
    "The bulk of the continuous data has now been analyzed, so lets take a look at the categorical data. Let's once again review our columns."
   ]
  },
  {
   "cell_type": "code",
   "execution_count": null,
   "metadata": {},
   "outputs": [],
   "source": [
    "df.columns"
   ]
  },
  {
   "cell_type": "markdown",
   "metadata": {},
   "source": [
    "Scanning through the data, it would be useful to see how location data, such as City and State, as well as the size of the company coorelates with salary. In addition, we should compare salaries that were hourly to salaries that were yearly to see if they tend to be lower. We can also compare seniority levels, but I image that will clearly result in a higher salary for more seniority. The type of ownership and industry/sector should be looked at to see what sectors pay more. This could be useful information for someone who wants to specialize in a certain subfield of data analytics and is looking for the greatest return on investment. "
   ]
  },
  {
   "cell_type": "markdown",
   "metadata": {},
   "source": []
  },
  {
   "cell_type": "code",
   "execution_count": null,
   "metadata": {},
   "outputs": [],
   "source": [
    "df_cats = df[['Size', 'Type of ownership', 'Industry', 'Sector', 'Revenue', 'City', 'State', 'Seniority Level']]"
   ]
  },
  {
   "cell_type": "code",
   "execution_count": null,
   "metadata": {},
   "outputs": [],
   "source": [
    "sns.set(rc={'figure.figsize':(10,8)},font_scale=0.8)\n",
    "for i in df_cats.columns:\n",
    "    cat_num = df_cats[i].value_counts()\n",
    "    print(\"The total groupings for %s is %d\" % (i, len(cat_num)))\n",
    "    graph = sns.barplot(x=cat_num.index, y=cat_num, data=df_cats)\n",
    "    graph.set_xticklabels(graph.get_xticklabels(), rotation=90)\n",
    "    #insert line to save strings here\n",
    "    plt.show()\n",
    "    "
   ]
  },
  {
   "cell_type": "markdown",
   "metadata": {},
   "source": [
    "Let's walk through each graph and see if there are any stand out insights at a glance:\n",
    "* **Size** - The largest company bin (10000+ employeers) comprises the bulk of the postings, followed by small enterprises (200-500 employees)\n",
    "* **Ownership** - Private and publicly held companies have the highest postings for data analysts. Surprisingly, government and university jobs dont have very many postings. For universities this is especially surprising, as there are ample opportunities to look at large data sets to determine student success or happiness. \n",
    "* **Industry** - Human Resources, Insurance, Healthcare and Business consulting top the list for industries with data analyst job postings on Glassdoor. Surprisingly, biotech is at the low end of the list. Maybe this is due to data analytics being lumped in with the duties of a research scientist. One thing to note is the **broad** range of industries needing data analyst services. Even in this small sample set, **37** different represented industries are observed!\n",
    "* **Revenue** The Revenue ranges given are roughly equivalent to each other in terms of representation. A good portion of the postings did not have an annual revenue, so perhaps supplimenting this data with a seperate datasource would be helpful if we wish to analyze based off revenue further. \n",
    "* **Location - city** - Large cities hold the most postings for data analysts, with New York topping the list. Surprisingly, remote jobs are the largest posting type! Good for people who have the skills but don't wish to change locations. \n",
    "* **Location - state** - Again, the bulk of locations are remote, with New York state holding the most postings after that. I was surprised to see California and Washington not represented more heavily, but perhaps those postings were listed as remote since they have more experience with that work being farmed out. A question to follow up with later. \n",
    "* **Seniority level** - Junior and senior positions based on text scraping are equally represented, but I need to go back and tweek the code to strip out I/II/III from the data and bin them into the appropriate seniority levels. As it stands, I won't be able to get very much out of this. "
   ]
  },
  {
   "cell_type": "code",
   "execution_count": null,
   "metadata": {},
   "outputs": [],
   "source": [
    "df.columns"
   ]
  },
  {
   "cell_type": "code",
   "execution_count": null,
   "metadata": {},
   "outputs": [],
   "source": [
    "pd.pivot_table(df, index = 'Title Grouping')"
   ]
  },
  {
   "cell_type": "code",
   "execution_count": null,
   "metadata": {},
   "outputs": [],
   "source": [
    "df[\"Job Title\"].value_counts().head(30)"
   ]
  },
  {
   "cell_type": "code",
   "execution_count": null,
   "metadata": {},
   "outputs": [],
   "source": [
    "pd.set_option('display.max_rows', None)\n",
    "pd.pivot_table(df, index = [\"Job Title\", \"Seniority Level\"], values = 'Converted Salary').sort_values('Converted Salary', ascending = False)"
   ]
  },
  {
   "cell_type": "markdown",
   "metadata": {},
   "source": [
    "At this time, I need to go back through and rebinn the titles, including Entry-level = junior, Master = senior, etc. \n",
    "\n",
    "Let's take a look at the average salaries by State/City for these roles. I would hypothesize the costal states/cities would have the larger average salaries, but that will be affected by the types of jobs being posted in each state."
   ]
  },
  {
   "cell_type": "code",
   "execution_count": null,
   "metadata": {},
   "outputs": [],
   "source": [
    "pd.pivot_table(df, index = 'State', values = ['Converted Salary']).sort_values('Converted Salary', ascending = False)"
   ]
  },
  {
   "cell_type": "markdown",
   "metadata": {},
   "source": [
    "Surprisingly, Georgia tops the list of average salaries, with California close behind. Utah takes the third spot. Michigan, Maryland and Montana are all low on the list. Perhaps this is due to the types of jobs being offered in these states. Let's make a pivot table showing the job titles and how many of those jobs are being offered. "
   ]
  },
  {
   "cell_type": "code",
   "execution_count": null,
   "metadata": {},
   "outputs": [],
   "source": [
    "pd.pivot_table(df, index = ['State', 'Job Title'], values = 'Converted Salary', aggfunc = 'count').sort_values('State', ascending = False)"
   ]
  },
  {
   "cell_type": "markdown",
   "metadata": {},
   "source": [
    "This gives us some insights. Utah is only hiring two jobs, both at senior pay levels. Georgia is hiring a large amount of cybersecurity data analysts. Meanwhile, Michigan, Montana and Maryland are largely hiring junior positions. This does give us some insights, such as senior level and cybersecurity analysts potentially earning more than general analysts. \n",
    "\n",
    "Let's go ahead and loop through all the data in a pivot table to see if anything stands out."
   ]
  },
  {
   "cell_type": "code",
   "execution_count": null,
   "metadata": {},
   "outputs": [],
   "source": [
    "df.columns"
   ]
  },
  {
   "cell_type": "code",
   "execution_count": null,
   "metadata": {},
   "outputs": [],
   "source": [
    "df_pivots=df[['Job Title','Salary Minimum','Salary Maximum','Salary Average','Rating','Company Name','Location','Size','Founded','Type of ownership','Industry','Sector','Revenue','Average Hourly Rate', 'City', 'State','Company Age (years)','Title Grouping','Seniority Level','Converted Salary']]\n",
    "pd.set_option('display.max_rows', None)\n",
    "for i in df_pivots.columns:\n",
    "    print(i) # get the column name\n",
    "    if i == 'Converted Salary':\n",
    "        pass\n",
    "    else:\n",
    "        table = pd.pivot_table(df_pivots, index = i, values='Converted Salary').sort_values('Converted Salary', ascending = False)\n",
    "        print(table)"
   ]
  },
  {
   "cell_type": "markdown",
   "metadata": {},
   "source": [
    "A ton of quick insights from this pivot table dump. Unsurprisingly, senior analysts make significantly more than juniors ($102k vs $69k average). Business/Cybersecurity analysts top the list of salary ranges. Smaller companies (defined as 1-200, 500-5000 employees) pay on the lower end of salaries, with 200-500 employee companies being the outlier at the higher end. It would be interesting to see if 200-500 employee companies are requesting more senior/cybersecurity jobs, which skew the average up. Public companies and government jobs pay the highst on average, with university/non-provig being the lowest. Security and HR are on the higher end as well, with biotech, grocery and universities being the bototm. Lastly, the Real Estate, IT and Government sectors are the high end of salaries.\n",
    "\n",
    "The data bins could us esome work, specifically the title grouping. It would also be nice to have a large dataset to take care of data skewing (such as having states with 1 high job posting skewing results). I could clean the data further by removing states with a single job count ooff the lst. For now, this will work as a launchpad to make some quick ML models for correlation predictions. "
   ]
  },
  {
   "cell_type": "markdown",
   "metadata": {},
   "source": []
  }
 ],
 "metadata": {
  "kernelspec": {
   "display_name": "Python 3.9.13 64-bit (windows store)",
   "language": "python",
   "name": "python3"
  },
  "language_info": {
   "codemirror_mode": {
    "name": "ipython",
    "version": 3
   },
   "file_extension": ".py",
   "mimetype": "text/x-python",
   "name": "python",
   "nbconvert_exporter": "python",
   "pygments_lexer": "ipython3",
   "version": "3.9.13"
  },
  "orig_nbformat": 4,
  "vscode": {
   "interpreter": {
    "hash": "bf21297fdaca2b6fa5dfcfdc3d9e5ea3822eee823e1751c84e0320dcd6daa7a7"
   }
  }
 },
 "nbformat": 4,
 "nbformat_minor": 2
}
